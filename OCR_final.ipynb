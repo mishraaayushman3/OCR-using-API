{
  "nbformat": 4,
  "nbformat_minor": 0,
  "metadata": {
    "colab": {
      "name": "OCR_final.ipynb",
      "provenance": []
    },
    "kernelspec": {
      "name": "python3",
      "display_name": "Python 3"
    }
  },
  "cells": [
    {
      "cell_type": "markdown",
      "metadata": {
        "id": "ZwpnV6luzRiz",
        "colab_type": "text"
      },
      "source": [
        "https://www.youtube.com/watch?v=fswR5cbmq-c&t=1034s"
      ]
    },
    {
      "cell_type": "code",
      "metadata": {
        "id": "mdSM_sGRmmNa",
        "colab_type": "code",
        "colab": {}
      },
      "source": [
        "import cv2"
      ],
      "execution_count": 0,
      "outputs": []
    },
    {
      "cell_type": "code",
      "metadata": {
        "id": "wYs6U2NJoR_-",
        "colab_type": "code",
        "colab": {}
      },
      "source": [
        "img = cv2.imread(\"passport.jpg\")"
      ],
      "execution_count": 0,
      "outputs": []
    },
    {
      "cell_type": "code",
      "metadata": {
        "id": "WGUYmGQwouw6",
        "colab_type": "code",
        "colab": {}
      },
      "source": [
        "from google.colab.patches import cv2_imshow"
      ],
      "execution_count": 0,
      "outputs": []
    },
    {
      "cell_type": "code",
      "metadata": {
        "id": "Bb09igLJokJR",
        "colab_type": "code",
        "colab": {}
      },
      "source": [
        "cv2_imshow(img)"
      ],
      "execution_count": 0,
      "outputs": []
    },
    {
      "cell_type": "code",
      "metadata": {
        "id": "Y6fZLgpRopvH",
        "colab_type": "code",
        "colab": {}
      },
      "source": [
        "import requests\n",
        "import numpy as np"
      ],
      "execution_count": 0,
      "outputs": []
    },
    {
      "cell_type": "code",
      "metadata": {
        "id": "-MccnV_RpY-Y",
        "colab_type": "code",
        "colab": {}
      },
      "source": [
        "url_api = \"https://api.ocr.space/parse/image\"\n",
        "import io"
      ],
      "execution_count": 0,
      "outputs": []
    },
    {
      "cell_type": "code",
      "metadata": {
        "id": "yl6yZaQmuStR",
        "colab_type": "code",
        "colab": {}
      },
      "source": [
        "_ , compimg = cv2.imencode(\".jpg\",img,[1,90])\n",
        "file_bytes = io.BytesIO(compimg)"
      ],
      "execution_count": 0,
      "outputs": []
    },
    {
      "cell_type": "code",
      "metadata": {
        "id": "6gdT5kATpe5P",
        "colab_type": "code",
        "outputId": "60e58298-2b81-4e8d-e586-a4af82ade7be",
        "colab": {
          "base_uri": "https://localhost:8080/",
          "height": 33
        }
      },
      "source": [
        "result = requests.post(url_api,files={\"passport.jpg\" : file_bytes},data={\"apikey\":\"e647b4847d88957\"})\n",
        "print(result)"
      ],
      "execution_count": 0,
      "outputs": [
        {
          "output_type": "stream",
          "text": [
            "<Response [200]>\n"
          ],
          "name": "stdout"
        }
      ]
    },
    {
      "cell_type": "code",
      "metadata": {
        "id": "SbTONCE4tD46",
        "colab_type": "code",
        "colab": {}
      },
      "source": [
        "print(result.content.decode())"
      ],
      "execution_count": 0,
      "outputs": []
    },
    {
      "cell_type": "code",
      "metadata": {
        "id": "fv2F1oS7u8_Y",
        "colab_type": "code",
        "colab": {}
      },
      "source": [
        "import json\n",
        "result = result.content.decode()\n",
        "result = json.loads(result)"
      ],
      "execution_count": 0,
      "outputs": []
    },
    {
      "cell_type": "code",
      "metadata": {
        "id": "L4K3o-UYvjch",
        "colab_type": "code",
        "colab": {}
      },
      "source": [
        "print(result)"
      ],
      "execution_count": 0,
      "outputs": []
    },
    {
      "cell_type": "code",
      "metadata": {
        "id": "PJho9UB1vJDS",
        "colab_type": "code",
        "colab": {}
      },
      "source": [
        "text = result.get('ParsedResults')[0].get('ParsedText')"
      ],
      "execution_count": 0,
      "outputs": []
    },
    {
      "cell_type": "code",
      "metadata": {
        "id": "NlXwW12Mvoxm",
        "colab_type": "code",
        "colab": {}
      },
      "source": [
        "print(text)"
      ],
      "execution_count": 0,
      "outputs": []
    }
  ]
}